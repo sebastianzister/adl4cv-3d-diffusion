{
 "cells": [
  {
   "cell_type": "code",
   "execution_count": 4,
   "metadata": {},
   "outputs": [],
   "source": [
    "import torch\n",
    "import sys\n",
    "import os"
   ]
  },
  {
   "cell_type": "code",
   "execution_count": 18,
   "metadata": {},
   "outputs": [],
   "source": [
    "#pcs = torch.load('output/outputs.pth')\n",
    "pcs = torch.load('data/generated.pth')"
   ]
  },
  {
   "cell_type": "code",
   "execution_count": 19,
   "metadata": {},
   "outputs": [],
   "source": [
    "pc = pcs[0]"
   ]
  },
  {
   "cell_type": "code",
   "execution_count": 20,
   "metadata": {},
   "outputs": [
    {
     "name": "stdout",
     "output_type": "stream",
     "text": [
      "0.12315724045038223\n"
     ]
    }
   ],
   "source": [
    "print(pc[0, 0].item())"
   ]
  },
  {
   "cell_type": "code",
   "execution_count": 21,
   "metadata": {},
   "outputs": [],
   "source": [
    "file = open('output/generated.ply', 'w')\n",
    "\n",
    "file.write('ply\\n')\n",
    "file.write('format ascii 1.0\\n')\n",
    "file.write('element vertex ' + str(pc.shape[0]) + '\\n')\n",
    "file.write('property float x\\n')\n",
    "file.write('property float y\\n')\n",
    "file.write('property float z\\n')\n",
    "file.write('end_header\\n')\n",
    "\n",
    "for i in range(pc.shape[0]):\n",
    "    file.write(str(pc[i, 0].item()) + ' ' + str(pc[i, 1].item()) + ' ' + str(pc[i, 2].item()) + '\\n')\n",
    "\n",
    "file.close()"
   ]
  }
 ],
 "metadata": {
  "kernelspec": {
   "display_name": "Python 3",
   "language": "python",
   "name": "python3"
  },
  "language_info": {
   "codemirror_mode": {
    "name": "ipython",
    "version": 3
   },
   "file_extension": ".py",
   "mimetype": "text/x-python",
   "name": "python",
   "nbconvert_exporter": "python",
   "pygments_lexer": "ipython3",
   "version": "3.8.19"
  }
 },
 "nbformat": 4,
 "nbformat_minor": 2
}
