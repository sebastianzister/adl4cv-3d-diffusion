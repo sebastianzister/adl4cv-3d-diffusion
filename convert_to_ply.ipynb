{
 "cells": [
  {
   "cell_type": "code",
   "execution_count": 2,
   "metadata": {},
   "outputs": [],
   "source": [
    "import torch\n",
    "import sys\n",
    "import os"
   ]
  },
  {
   "cell_type": "code",
   "execution_count": 18,
   "metadata": {},
   "outputs": [],
   "source": [
    "#pcs = torch.load('output/outputs.pth')\n",
    "pcs = torch.load('data/generated.pth')"
   ]
  },
  {
   "cell_type": "code",
   "execution_count": 19,
   "metadata": {},
   "outputs": [],
   "source": [
    "pc = pcs[0]"
   ]
  },
  {
   "cell_type": "code",
   "execution_count": 20,
   "metadata": {},
   "outputs": [
    {
     "name": "stdout",
     "output_type": "stream",
     "text": [
      "0.12315724045038223\n"
     ]
    }
   ],
   "source": [
    "print(pc[0, 0].item())"
   ]
  },
  {
   "cell_type": "code",
   "execution_count": 21,
   "metadata": {},
   "outputs": [],
   "source": [
    "file = open('output/generated.ply', 'w')\n",
    "\n",
    "file.write('ply\\n')\n",
    "file.write('format ascii 1.0\\n')\n",
    "file.write('element vertex ' + str(pc.shape[0]) + '\\n')\n",
    "file.write('property float x\\n')\n",
    "file.write('property float y\\n')\n",
    "file.write('property float z\\n')\n",
    "file.write('end_header\\n')\n",
    "\n",
    "for i in range(pc.shape[0]):\n",
    "    file.write(str(pc[i, 0].item()) + ' ' + str(pc[i, 1].item()) + ' ' + str(pc[i, 2].item()) + '\\n')\n",
    "\n",
    "file.close()"
   ]
  },
  {
   "cell_type": "code",
   "execution_count": 15,
   "metadata": {},
   "outputs": [
    {
     "name": "stdout",
     "output_type": "stream",
     "text": [
      "4095\n",
      "37.160690 -6.560867 6.394803 \n",
      "\n",
      "4092\n",
      "15.351010 -10.336040 8.515035 \n",
      "\n",
      "4096\n",
      "17.357258 -20.634830 9.567842 \n",
      "\n",
      "4095\n",
      "24.347439 -14.674357 7.910946 \n",
      "\n",
      "4095\n",
      "15.351010 -2.264338 8.815284 \n",
      "\n",
      "4107\n",
      "32.792637 -10.412107 9.843985 \n",
      "\n"
     ]
    }
   ],
   "source": [
    "# read ply to point cloud\n",
    "for l in ['t', 'h', 'a', 'n', 'k', 's']:\n",
    "    file = open(f'../presentation/second/cc_{l}.ply', 'r')\n",
    "    \n",
    "    lines = file.readlines()\n",
    "    \n",
    "    num_points = int(lines[3].split(' ')[2])\n",
    "    print(num_points)\n",
    "    \n",
    "    points = torch.zeros(num_points, 3)\n",
    "    \n",
    "    print(lines[8])\n",
    "    for i in range(num_points):\n",
    "        point = lines[i + 8].split(' ')\n",
    "        points[i, 0] = float(point[0])\n",
    "        points[i, 1] = float(point[1])\n",
    "        points[i, 2] = float(point[2])\n",
    "    \n",
    "    torch.save(points, f'../presentation/second/cc_{l}.pth')"
   ]
  }
 ],
 "metadata": {
  "kernelspec": {
   "display_name": "Python 3",
   "language": "python",
   "name": "python3"
  },
  "language_info": {
   "codemirror_mode": {
    "name": "ipython",
    "version": 3
   },
   "file_extension": ".py",
   "mimetype": "text/x-python",
   "name": "python",
   "nbconvert_exporter": "python",
   "pygments_lexer": "ipython3",
   "version": "3.8.19"
  }
 },
 "nbformat": 4,
 "nbformat_minor": 2
}
